{
 "cells": [
  {
   "cell_type": "markdown",
   "id": "81878922",
   "metadata": {},
   "source": [
    "### Lists are collection of items in a particular order. Lists are mutable i.e can change the elements of list using index operatror\n",
    "#### https://docs.python.org/3/tutorial/datastructures.html"
   ]
  },
  {
   "cell_type": "code",
   "execution_count": 1,
   "id": "66e28703",
   "metadata": {},
   "outputs": [
    {
     "name": "stdout",
     "output_type": "stream",
     "text": [
      "['__add__', '__class__', '__class_getitem__', '__contains__', '__delattr__', '__delitem__', '__dir__', '__doc__', '__eq__', '__format__', '__ge__', '__getattribute__', '__getitem__', '__gt__', '__hash__', '__iadd__', '__imul__', '__init__', '__init_subclass__', '__iter__', '__le__', '__len__', '__lt__', '__mul__', '__ne__', '__new__', '__reduce__', '__reduce_ex__', '__repr__', '__reversed__', '__rmul__', '__setattr__', '__setitem__', '__sizeof__', '__str__', '__subclasshook__', 'append', 'clear', 'copy', 'count', 'extend', 'index', 'insert', 'pop', 'remove', 'reverse', 'sort']\n"
     ]
    }
   ],
   "source": [
    "l = list()\n",
    "print(dir(l))"
   ]
  },
  {
   "cell_type": "code",
   "execution_count": 7,
   "id": "58afc966",
   "metadata": {},
   "outputs": [
    {
     "name": "stdout",
     "output_type": "stream",
     "text": [
      "Sally\n",
      "2\n",
      "range(0, 2)\n",
      "range(0, 2)\n"
     ]
    }
   ],
   "source": [
    "friends = ['John','Sally']\n",
    "print(friends[1])\n",
    "print(len(friends))\n",
    "print(range(len(friends))) #0 to n-1\n",
    "print(range(2))"
   ]
  },
  {
   "cell_type": "code",
   "execution_count": 38,
   "id": "d7c97cd7",
   "metadata": {},
   "outputs": [
    {
     "name": "stdout",
     "output_type": "stream",
     "text": [
      "<class 'range'> range(0, 5)\n"
     ]
    },
    {
     "data": {
      "text/plain": [
       "True"
      ]
     },
     "execution_count": 38,
     "metadata": {},
     "output_type": "execute_result"
    }
   ],
   "source": [
    "# range \n",
    "# The adv of range type over regular list or tuple is that a range object will always take the same (small) amount of memory\n",
    "# no matter the size of the range it represents as it only stores the start, stop and step values\n",
    "x = range(5)\n",
    "print(type(x),x)\n",
    "range(0) == range(2, 1, 3)"
   ]
  },
  {
   "cell_type": "markdown",
   "id": "50cc64ab",
   "metadata": {},
   "source": [
    "##### 2 ways to iterate a list"
   ]
  },
  {
   "cell_type": "code",
   "execution_count": 8,
   "id": "3475c21e",
   "metadata": {},
   "outputs": [
    {
     "name": "stdout",
     "output_type": "stream",
     "text": [
      "John\n",
      "Sally\n",
      "John at 0\n",
      "Sally at 1\n"
     ]
    }
   ],
   "source": [
    "# Way 1\n",
    "for i in friends:\n",
    "    print(i)\n",
    "    \n",
    "#way 2\n",
    "for i in range(len(friends)):\n",
    "    print('{} at {}'.format(friends[i],i))"
   ]
  },
  {
   "cell_type": "code",
   "execution_count": 2,
   "id": "6bb2700e",
   "metadata": {},
   "outputs": [
    {
     "data": {
      "text/plain": [
       "[3, 4]"
      ]
     },
     "execution_count": 2,
     "metadata": {},
     "output_type": "execute_result"
    }
   ],
   "source": [
    "num = [1,2,3,4,5,6]\n",
    "num[2:4]"
   ]
  },
  {
   "cell_type": "markdown",
   "id": "ba031e89",
   "metadata": {},
   "source": [
    "#### Append(x) vs Extend(iterable)"
   ]
  },
  {
   "cell_type": "markdown",
   "id": "832886d4",
   "metadata": {},
   "source": [
    "Strings are immutable so these methods would return variable whereas lists are mutable so appending changes the variable."
   ]
  },
  {
   "cell_type": "code",
   "execution_count": 13,
   "id": "227670ec",
   "metadata": {},
   "outputs": [
    {
     "name": "stdout",
     "output_type": "stream",
     "text": [
      "Stuff :  ['InsertFirst', 'book', 99, [1, 0, 3]]\n",
      "Stuff :  ['InsertFirst', 99, [1, 0, 3]]\n",
      "Stuff after pop():  ['InsertFirst', 99]\n",
      "new_stuff after pop() :  [1, 0, 3] \n",
      "\n",
      "InsertFirst\n",
      "99\n"
     ]
    }
   ],
   "source": [
    "stuff = list()\n",
    "another_list = [1,0,3]\n",
    "stuff.append('book')\n",
    "stuff.append(99)\n",
    "stuff.append(another_list)\n",
    "stuff.insert(0,'InsertFirst')\n",
    "print(\"Stuff : \",stuff)\n",
    "\n",
    "del stuff[1]    #delete first index\n",
    "print(\"Stuff : \",stuff)\n",
    "\n",
    "new_stuff = stuff.pop()\n",
    "print(\"Stuff after pop(): \",stuff)\n",
    "print(\"new_stuff after pop() : \",new_stuff,\"\\n\")\n",
    "\n",
    "\n",
    "for i in range(len(stuff)):\n",
    "    print(stuff[i])"
   ]
  },
  {
   "cell_type": "code",
   "execution_count": 13,
   "id": "63367de1",
   "metadata": {},
   "outputs": [
    {
     "name": "stdout",
     "output_type": "stream",
     "text": [
      "Stuff :  ['b', 'o', 'o', 'k', 1, 0, 3]\n",
      "b\n",
      "o\n",
      "o\n",
      "k\n",
      "1\n",
      "0\n",
      "3\n"
     ]
    }
   ],
   "source": [
    "stuff = list()\n",
    "another_list = [1,0,3]\n",
    "stuff.extend('book')\n",
    "#stuff.extend(99)  #throws error - 'int' object is not iterable\n",
    "stuff.extend(another_list)\n",
    "print(\"Stuff : \",stuff)\n",
    "\n",
    "for i in range(len(stuff)):\n",
    "    print(stuff[i])"
   ]
  },
  {
   "cell_type": "code",
   "execution_count": 17,
   "id": "bcb636a0",
   "metadata": {},
   "outputs": [
    {
     "name": "stdout",
     "output_type": "stream",
     "text": [
      "True\n",
      "True\n"
     ]
    }
   ],
   "source": [
    "# IN AS LOGICAL OPERATOR\n",
    "stuff = ['book', 99, [1, 0, 3]]\n",
    "print(99 in stuff)\n",
    "print('camel' not in stuff)"
   ]
  },
  {
   "cell_type": "code",
   "execution_count": 23,
   "id": "2940915b",
   "metadata": {},
   "outputs": [
    {
     "name": "stdout",
     "output_type": "stream",
     "text": [
      "['Gwenn', 'John', 'Sally']\n"
     ]
    },
    {
     "ename": "TypeError",
     "evalue": "'<' not supported between instances of 'str' and 'NoneType'",
     "output_type": "error",
     "traceback": [
      "\u001b[1;31m---------------------------------------------------------------------------\u001b[0m",
      "\u001b[1;31mTypeError\u001b[0m                                 Traceback (most recent call last)",
      "\u001b[1;32m~\\AppData\\Local\\Temp/ipykernel_4844/1983086431.py\u001b[0m in \u001b[0;36m<module>\u001b[1;34m\u001b[0m\n\u001b[0;32m      5\u001b[0m \u001b[1;33m\u001b[0m\u001b[0m\n\u001b[0;32m      6\u001b[0m \u001b[0mexception\u001b[0m \u001b[1;33m=\u001b[0m \u001b[1;33m[\u001b[0m\u001b[1;32mNone\u001b[0m\u001b[1;33m,\u001b[0m \u001b[1;34m'hello'\u001b[0m\u001b[1;33m,\u001b[0m \u001b[1;36m10\u001b[0m\u001b[1;33m]\u001b[0m\u001b[1;33m\u001b[0m\u001b[1;33m\u001b[0m\u001b[0m\n\u001b[1;32m----> 7\u001b[1;33m \u001b[0mexception\u001b[0m\u001b[1;33m.\u001b[0m\u001b[0msort\u001b[0m\u001b[1;33m(\u001b[0m\u001b[1;33m)\u001b[0m\u001b[1;33m\u001b[0m\u001b[1;33m\u001b[0m\u001b[0m\n\u001b[0m",
      "\u001b[1;31mTypeError\u001b[0m: '<' not supported between instances of 'str' and 'NoneType'"
     ]
    }
   ],
   "source": [
    "# Sort the items of the list IN PLACE \n",
    "friends = ['John','Sally','Gwenn']\n",
    "friends.sort()\n",
    "print(friends)\n",
    "\n",
    "# integers can’t be compared to strings and None can’t be compared to other types.\n",
    "exception = [None, 'hello', 10]\n",
    "exception.sort()"
   ]
  },
  {
   "cell_type": "code",
   "execution_count": 29,
   "id": "b50c1153",
   "metadata": {},
   "outputs": [
    {
     "data": {
      "text/plain": [
       "['3.1', '3.14', '3.142', '3.1416', '3.14159']"
      ]
     },
     "execution_count": 29,
     "metadata": {},
     "output_type": "execute_result"
    }
   ],
   "source": [
    "# NESTED LIST COMPREHENSIONS\n",
    "from math import pi\n",
    "x = [str(round(pi, i)) for i in range(1, 6)]\n",
    "x\n",
    "#type(x[0])"
   ]
  },
  {
   "cell_type": "code",
   "execution_count": 40,
   "id": "14dad477",
   "metadata": {},
   "outputs": [
    {
     "name": "stdout",
     "output_type": "stream",
     "text": [
      "[[4, 7, 5], [5, 1, 6], [3, 8, 4], [9, 2, 7]]\n",
      "[[4, 7, 5], [5, 1, 6], [3, 8, 4], [9, 2, 7]]\n"
     ]
    }
   ],
   "source": [
    "l1 = [[4, 5, 3, 9], [7, 1, 8, 2], [5, 6, 4, 7]]\n",
    "l2 = []\n",
    "\n",
    "for i in range(len(l1[0])):\n",
    "    row = []\n",
    "    for x in l1:         #x = [4, 5, 3, 9]\n",
    "        row.append(x[i])  #append first element of each inner list to row[]\n",
    "    l2.append(row)\n",
    "\n",
    "print(l2)\n",
    "\n",
    "\n",
    "## method 2\n",
    "transposed = []\n",
    "for i in range(len(l1[0])):\n",
    "    transposed.append([row[i] for row in l1])\n",
    "print(transposed)\n",
    "\n",
    "\n",
    "for item in zip([1, 2, 3], ['sugar', 'spice', 'everything nice']):\n",
    "    print(item)"
   ]
  },
  {
   "cell_type": "code",
   "execution_count": 45,
   "id": "9b4942a9",
   "metadata": {},
   "outputs": [
    {
     "name": "stdout",
     "output_type": "stream",
     "text": [
      "(1, 4)\n",
      "(2, 5)\n",
      "(3, 6)\n"
     ]
    }
   ],
   "source": [
    "for item in zip([1, 2, 3],[4,5,6]):\n",
    "    print(item)\n",
    "\n",
    "#zip() along with the unpacking operator *\n",
    "pairs = [(1, 'a'), (2, 'b'), (3, 'c'), (4, 'd')]\n",
    "numbers, letters = zip(*pairs)\n",
    "numbers"
   ]
  },
  {
   "cell_type": "code",
   "execution_count": 49,
   "id": "8bd76429",
   "metadata": {},
   "outputs": [
    {
     "data": {
      "text/plain": [
       "[(4, 7, 5), (5, 1, 6), (3, 8, 4), (9, 2, 7)]"
      ]
     },
     "execution_count": 49,
     "metadata": {},
     "output_type": "execute_result"
    }
   ],
   "source": [
    "list(zip(*l1))"
   ]
  },
  {
   "cell_type": "code",
   "execution_count": 2,
   "id": "1b5e74cd",
   "metadata": {},
   "outputs": [
    {
     "data": {
      "text/plain": [
       "[1, 2, 3, 4, 5, 6]"
      ]
     },
     "execution_count": 2,
     "metadata": {},
     "output_type": "execute_result"
    }
   ],
   "source": [
    "#concat lists\n",
    "a = [1,2,3]\n",
    "b = [4,5,6]\n",
    "a+b"
   ]
  },
  {
   "cell_type": "code",
   "execution_count": 6,
   "id": "181c4e63",
   "metadata": {},
   "outputs": [
    {
     "data": {
      "text/plain": [
       "[2]"
      ]
     },
     "execution_count": 6,
     "metadata": {},
     "output_type": "execute_result"
    }
   ],
   "source": [
    "#slicing lists\n",
    "a[1:2]"
   ]
  },
  {
   "cell_type": "code",
   "execution_count": 8,
   "id": "e152a277",
   "metadata": {},
   "outputs": [
    {
     "data": {
      "text/plain": [
       "2.0"
      ]
     },
     "execution_count": 8,
     "metadata": {},
     "output_type": "execute_result"
    }
   ],
   "source": [
    "#lists maintain order\n",
    "avg = (sum(a)/len(a))\n",
    "avg"
   ]
  },
  {
   "cell_type": "code",
   "execution_count": 30,
   "id": "6bfa7bbf",
   "metadata": {},
   "outputs": [
    {
     "name": "stdout",
     "output_type": "stream",
     "text": [
      "['We', 'three', 'friends']\n",
      "word:  We\n",
      "word:  three\n",
      "word:  friends\n"
     ]
    }
   ],
   "source": [
    "# Strings & Lists\n",
    "# Split breaks [string] into [list of strings] \n",
    "\n",
    "abc = 'We three           friends'\n",
    "stuff = abc.split()  #by default, on whitespace, treats more than one space as single space\n",
    "print(stuff)\n",
    "\n",
    "for word in stuff:\n",
    "    print('word: ',word)"
   ]
  },
  {
   "cell_type": "code",
   "execution_count": 27,
   "id": "0a01322c",
   "metadata": {},
   "outputs": [
    {
     "name": "stdout",
     "output_type": "stream",
     "text": [
      "['1', '2', '3']\n",
      "['1', '2', '3']\n",
      "\n",
      "list:  ['1', '2,3'] \n",
      "length:  2\n",
      "2,3\n"
     ]
    }
   ],
   "source": [
    "print('1,2,3'.split(','))\n",
    "print('   1   2   3   '.split()) #leading and trailing whitespaces disregarded\n",
    "\n",
    "a = '1,2,3'.split(',', maxsplit=1)\n",
    "print('\\nlist: ',a, '\\nlength: ',len(a))\n",
    "print(a[1])"
   ]
  },
  {
   "cell_type": "code",
   "execution_count": 22,
   "id": "65dd83b6",
   "metadata": {},
   "outputs": [
    {
     "name": "stdout",
     "output_type": "stream",
     "text": [
      "['1', '2,3']\n",
      "2,3\n"
     ]
    }
   ],
   "source": []
  },
  {
   "cell_type": "code",
   "execution_count": null,
   "id": "6ec7ef0a",
   "metadata": {},
   "outputs": [],
   "source": []
  }
 ],
 "metadata": {
  "kernelspec": {
   "display_name": "Python 3 (ipykernel)",
   "language": "python",
   "name": "python3"
  },
  "language_info": {
   "codemirror_mode": {
    "name": "ipython",
    "version": 3
   },
   "file_extension": ".py",
   "mimetype": "text/x-python",
   "name": "python",
   "nbconvert_exporter": "python",
   "pygments_lexer": "ipython3",
   "version": "3.9.7"
  }
 },
 "nbformat": 4,
 "nbformat_minor": 5
}
