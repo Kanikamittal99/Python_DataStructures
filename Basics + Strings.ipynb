{
 "cells": [
  {
   "cell_type": "markdown",
   "id": "826c2eac",
   "metadata": {},
   "source": [
    "https://docs.python.org/3/library/stdtypes.html#string-methods\n"
   ]
  },
  {
   "cell_type": "code",
   "execution_count": 6,
   "id": "3c5f8379",
   "metadata": {},
   "outputs": [
    {
     "data": {
      "text/plain": [
       "7"
      ]
     },
     "execution_count": 6,
     "metadata": {},
     "output_type": "execute_result"
    }
   ],
   "source": [
    "#the floor division // rounds the result down to the nearest whole number\n",
    "15//2"
   ]
  },
  {
   "cell_type": "code",
   "execution_count": 7,
   "id": "e5f484c8",
   "metadata": {},
   "outputs": [
    {
     "data": {
      "text/plain": [
       "1"
      ]
     },
     "execution_count": 7,
     "metadata": {},
     "output_type": "execute_result"
    }
   ],
   "source": [
    "# modulus\n",
    "5%2"
   ]
  },
  {
   "cell_type": "code",
   "execution_count": 11,
   "id": "91a0e7f6",
   "metadata": {},
   "outputs": [
    {
     "data": {
      "text/plain": [
       "7.5"
      ]
     },
     "execution_count": 11,
     "metadata": {},
     "output_type": "execute_result"
    }
   ],
   "source": [
    "# division \n",
    "15/2"
   ]
  },
  {
   "cell_type": "code",
   "execution_count": 9,
   "id": "c431dcef",
   "metadata": {},
   "outputs": [
    {
     "data": {
      "text/plain": [
       "32"
      ]
     },
     "execution_count": 9,
     "metadata": {},
     "output_type": "execute_result"
    }
   ],
   "source": [
    "# Exponentiation -> same as 2*2*2*2*2\n",
    "2 ** 5"
   ]
  },
  {
   "cell_type": "code",
   "execution_count": 66,
   "id": "2ec63b4b",
   "metadata": {},
   "outputs": [
    {
     "name": "stdout",
     "output_type": "stream",
     "text": [
      "Python 3.9.7\n"
     ]
    }
   ],
   "source": [
    "# to execute shell command use '!'\n",
    "!python --version"
   ]
  },
  {
   "cell_type": "code",
   "execution_count": 2,
   "id": "b1814d67",
   "metadata": {},
   "outputs": [
    {
     "data": {
      "text/plain": [
       "34"
      ]
     },
     "execution_count": 2,
     "metadata": {},
     "output_type": "execute_result"
    }
   ],
   "source": [
    "savings = max(5,8,22,34)\n",
    "savings"
   ]
  },
  {
   "cell_type": "code",
   "execution_count": 4,
   "id": "92719ad3",
   "metadata": {},
   "outputs": [
    {
     "name": "stdout",
     "output_type": "stream",
     "text": [
      "My savings is: 34\n"
     ]
    }
   ],
   "source": [
    "print(\"My savings is:\",salary)"
   ]
  },
  {
   "cell_type": "code",
   "execution_count": 9,
   "id": "565adeb4",
   "metadata": {},
   "outputs": [
    {
     "name": "stdout",
     "output_type": "stream",
     "text": [
      "x and y: False\n"
     ]
    }
   ],
   "source": [
    "x = True\n",
    "y = False\n",
    "print(\"x and y:\",x and y)"
   ]
  },
  {
   "cell_type": "code",
   "execution_count": 6,
   "id": "a0d20e7a",
   "metadata": {},
   "outputs": [
    {
     "name": "stdout",
     "output_type": "stream",
     "text": [
      "x or y: True\n"
     ]
    }
   ],
   "source": [
    "print(\"x or y:\",x or y)"
   ]
  },
  {
   "cell_type": "code",
   "execution_count": 11,
   "id": "f3519eca",
   "metadata": {},
   "outputs": [
    {
     "name": "stdout",
     "output_type": "stream",
     "text": [
      "not x is: False\n"
     ]
    }
   ],
   "source": [
    "print(\"not x is:\", not x)"
   ]
  },
  {
   "cell_type": "code",
   "execution_count": 2,
   "id": "4c538975",
   "metadata": {},
   "outputs": [
    {
     "name": "stdout",
     "output_type": "stream",
     "text": [
      "I am awesome\n"
     ]
    }
   ],
   "source": [
    "x = \"awesome\"\n",
    "print(\"I am \" +x)"
   ]
  },
  {
   "cell_type": "code",
   "execution_count": 4,
   "id": "c87429f3",
   "metadata": {},
   "outputs": [
    {
     "name": "stdout",
     "output_type": "stream",
     "text": [
      "I am awesome \n"
     ]
    }
   ],
   "source": [
    "x = \"I am \"\n",
    "y = \"awesome \"\n",
    "\n",
    "z = x + y\n",
    "print(z)"
   ]
  },
  {
   "cell_type": "code",
   "execution_count": 6,
   "id": "18c97de8",
   "metadata": {},
   "outputs": [
    {
     "name": "stdout",
     "output_type": "stream",
     "text": [
      "I am awesome I am awesome I am awesome I am awesome \n"
     ]
    }
   ],
   "source": [
    "a = z * 4\n",
    "print(a)"
   ]
  },
  {
   "cell_type": "code",
   "execution_count": 58,
   "id": "77442f7e",
   "metadata": {},
   "outputs": [
    {
     "ename": "TypeError",
     "evalue": "can't multiply sequence by non-int of type 'str'",
     "output_type": "error",
     "traceback": [
      "\u001b[1;31m---------------------------------------------------------------------------\u001b[0m",
      "\u001b[1;31mTypeError\u001b[0m                                 Traceback (most recent call last)",
      "\u001b[1;32m~\\AppData\\Local\\Temp/ipykernel_13768/1798577322.py\u001b[0m in \u001b[0;36m<module>\u001b[1;34m\u001b[0m\n\u001b[1;32m----> 1\u001b[1;33m \u001b[0mprint\u001b[0m\u001b[1;33m(\u001b[0m\u001b[1;34m\"Hello\"\u001b[0m \u001b[1;33m*\u001b[0m \u001b[1;34m\"World\"\u001b[0m\u001b[1;33m)\u001b[0m\u001b[1;33m\u001b[0m\u001b[1;33m\u001b[0m\u001b[0m\n\u001b[0m",
      "\u001b[1;31mTypeError\u001b[0m: can't multiply sequence by non-int of type 'str'"
     ]
    }
   ],
   "source": [
    "print(\"Hello\" * \"World\")"
   ]
  },
  {
   "cell_type": "code",
   "execution_count": 59,
   "id": "2a4c4c8e",
   "metadata": {},
   "outputs": [
    {
     "name": "stdout",
     "output_type": "stream",
     "text": [
      "HelloWorld\n"
     ]
    }
   ],
   "source": [
    "print(\"Hello\" + \"World\")"
   ]
  },
  {
   "cell_type": "code",
   "execution_count": 22,
   "id": "5316e755",
   "metadata": {},
   "outputs": [
    {
     "data": {
      "text/plain": [
       "5"
      ]
     },
     "execution_count": 22,
     "metadata": {},
     "output_type": "execute_result"
    }
   ],
   "source": [
    "len(x)"
   ]
  },
  {
   "cell_type": "code",
   "execution_count": 27,
   "id": "801dad98",
   "metadata": {},
   "outputs": [
    {
     "name": "stdout",
     "output_type": "stream",
     "text": [
      "False\n"
     ]
    }
   ],
   "source": [
    "# checks from right to left\n",
    "x = True\n",
    "z = False\n",
    "y = x ==z \n",
    "print(y)"
   ]
  },
  {
   "cell_type": "code",
   "execution_count": 28,
   "id": "ce1117b4",
   "metadata": {},
   "outputs": [
    {
     "name": "stdout",
     "output_type": "stream",
     "text": [
      "True False\n"
     ]
    }
   ],
   "source": [
    "print(x, z)"
   ]
  },
  {
   "cell_type": "code",
   "execution_count": 29,
   "id": "9b26f2c3",
   "metadata": {},
   "outputs": [
    {
     "name": "stdout",
     "output_type": "stream",
     "text": [
      "Datatype of  True  is <class 'bool'>\n"
     ]
    }
   ],
   "source": [
    "print(\"Datatype of \",x, \" is\",type(x))"
   ]
  },
  {
   "cell_type": "markdown",
   "id": "d963f4dd",
   "metadata": {},
   "source": [
    "complex numbers"
   ]
  },
  {
   "cell_type": "code",
   "execution_count": 30,
   "id": "f4dcd2d8",
   "metadata": {},
   "outputs": [
    {
     "name": "stdout",
     "output_type": "stream",
     "text": [
      "Datatype of  5j  is <class 'complex'>\n"
     ]
    }
   ],
   "source": [
    "n = 5j\n",
    "print(\"Datatype of \",n, \" is\",type(n))"
   ]
  },
  {
   "cell_type": "code",
   "execution_count": 31,
   "id": "a7620136",
   "metadata": {},
   "outputs": [
    {
     "name": "stdout",
     "output_type": "stream",
     "text": [
      "(-25+0j)\n"
     ]
    }
   ],
   "source": [
    "print(5j*5j)"
   ]
  },
  {
   "cell_type": "markdown",
   "id": "5ec8aac9",
   "metadata": {},
   "source": [
    "To print binary numbers - prefix '0b'"
   ]
  },
  {
   "cell_type": "code",
   "execution_count": 32,
   "id": "f6c46688",
   "metadata": {},
   "outputs": [
    {
     "name": "stdout",
     "output_type": "stream",
     "text": [
      "7\n"
     ]
    }
   ],
   "source": [
    "print(0b111)"
   ]
  },
  {
   "cell_type": "code",
   "execution_count": 33,
   "id": "2d49ef4c",
   "metadata": {},
   "outputs": [
    {
     "data": {
      "text/plain": [
       "int"
      ]
     },
     "execution_count": 33,
     "metadata": {},
     "output_type": "execute_result"
    }
   ],
   "source": [
    "type(0b111)"
   ]
  },
  {
   "cell_type": "code",
   "execution_count": 35,
   "id": "841ad340",
   "metadata": {},
   "outputs": [
    {
     "name": "stdout",
     "output_type": "stream",
     "text": [
      "puthon puthon puthon \n"
     ]
    }
   ],
   "source": [
    "print('puthon ' *3) "
   ]
  },
  {
   "cell_type": "code",
   "execution_count": 9,
   "id": "f629006c",
   "metadata": {},
   "outputs": [
    {
     "name": "stdout",
     "output_type": "stream",
     "text": [
      "what is your favourite food?pizz\n",
      "ohh!, You like pizz . That sounds delicious\n"
     ]
    }
   ],
   "source": [
    "ans = input(\"what is your favourite food?\")\n",
    "\n",
    "print('ohh!, You like', ans,\". That sounds delicious\")"
   ]
  },
  {
   "cell_type": "code",
   "execution_count": 39,
   "id": "d2502a19",
   "metadata": {},
   "outputs": [
    {
     "ename": "SyntaxError",
     "evalue": "invalid syntax (Temp/ipykernel_13768/1496529666.py, line 1)",
     "output_type": "error",
     "traceback": [
      "\u001b[1;36m  File \u001b[1;32m\"C:\\Users\\user\\AppData\\Local\\Temp/ipykernel_13768/1496529666.py\"\u001b[1;36m, line \u001b[1;32m1\u001b[0m\n\u001b[1;33m    print('i'm learning python')\u001b[0m\n\u001b[1;37m             ^\u001b[0m\n\u001b[1;31mSyntaxError\u001b[0m\u001b[1;31m:\u001b[0m invalid syntax\n"
     ]
    }
   ],
   "source": [
    "print('i'm learning python')"
   ]
  },
  {
   "cell_type": "code",
   "execution_count": 40,
   "id": "8ddf3883",
   "metadata": {},
   "outputs": [
    {
     "name": "stdout",
     "output_type": "stream",
     "text": [
      "i'm learning python\n"
     ]
    }
   ],
   "source": [
    "print(\"i'm learning python\")"
   ]
  },
  {
   "cell_type": "code",
   "execution_count": 41,
   "id": "8ad5f3b1",
   "metadata": {},
   "outputs": [
    {
     "name": "stdout",
     "output_type": "stream",
     "text": [
      "John said \"Hello\"\n"
     ]
    }
   ],
   "source": [
    "print('John said \"Hello\"')"
   ]
  },
  {
   "cell_type": "code",
   "execution_count": 42,
   "id": "f9689a60",
   "metadata": {},
   "outputs": [
    {
     "name": "stdout",
     "output_type": "stream",
     "text": [
      "hello! \n",
      "How are you?\n"
     ]
    }
   ],
   "source": [
    "print(\"hello! \\nHow are you?\")"
   ]
  },
  {
   "cell_type": "markdown",
   "id": "465ff4a8",
   "metadata": {},
   "source": [
    "Triple Quotes Use - for multiline characters"
   ]
  },
  {
   "cell_type": "code",
   "execution_count": 45,
   "id": "d754a3bf",
   "metadata": {},
   "outputs": [
    {
     "name": "stdout",
     "output_type": "stream",
     "text": [
      "I am triple \n",
      "quote string\n"
     ]
    }
   ],
   "source": [
    "print(\"\"\"I am triple \n",
    "quote string\"\"\")"
   ]
  },
  {
   "cell_type": "code",
   "execution_count": 46,
   "id": "05ba020f",
   "metadata": {},
   "outputs": [
    {
     "name": "stdout",
     "output_type": "stream",
     "text": [
      "I am triple \n",
      "quote string\n"
     ]
    }
   ],
   "source": [
    "print('''I am triple \n",
    "quote string''')"
   ]
  },
  {
   "cell_type": "code",
   "execution_count": 47,
   "id": "78c24134",
   "metadata": {},
   "outputs": [
    {
     "ename": "SyntaxError",
     "evalue": "invalid syntax (Temp/ipykernel_13768/713076446.py, line 1)",
     "output_type": "error",
     "traceback": [
      "\u001b[1;36m  File \u001b[1;32m\"C:\\Users\\user\\AppData\\Local\\Temp/ipykernel_13768/713076446.py\"\u001b[1;36m, line \u001b[1;32m1\u001b[0m\n\u001b[1;33m    print(''I am triple\u001b[0m\n\u001b[1;37m            ^\u001b[0m\n\u001b[1;31mSyntaxError\u001b[0m\u001b[1;31m:\u001b[0m invalid syntax\n"
     ]
    }
   ],
   "source": [
    "print(''I am triple \n",
    "quote string'')"
   ]
  },
  {
   "cell_type": "code",
   "execution_count": 49,
   "id": "8f255ae9",
   "metadata": {},
   "outputs": [
    {
     "name": "stdout",
     "output_type": "stream",
     "text": [
      "A dog barks!\n"
     ]
    }
   ],
   "source": [
    "var = 'barks'\n",
    "print('A dog ' + var +'!')"
   ]
  },
  {
   "cell_type": "code",
   "execution_count": 50,
   "id": "477942b5",
   "metadata": {},
   "outputs": [
    {
     "name": "stdout",
     "output_type": "stream",
     "text": [
      "A dog barks!\n"
     ]
    }
   ],
   "source": [
    "print(f'A dog {var}!')"
   ]
  },
  {
   "cell_type": "code",
   "execution_count": 52,
   "id": "781d1f7f",
   "metadata": {},
   "outputs": [
    {
     "name": "stdout",
     "output_type": "stream",
     "text": [
      "A dog \n",
      "barks!\n"
     ]
    }
   ],
   "source": [
    "print(f'''A dog \n",
    "{var}!''')"
   ]
  },
  {
   "cell_type": "code",
   "execution_count": 53,
   "id": "a079ca34",
   "metadata": {},
   "outputs": [
    {
     "name": "stdout",
     "output_type": "stream",
     "text": [
      "a dog barks!\n"
     ]
    }
   ],
   "source": [
    "print('a dog {}!'.format(var))"
   ]
  },
  {
   "cell_type": "code",
   "execution_count": 54,
   "id": "fc01586b",
   "metadata": {},
   "outputs": [
    {
     "name": "stdout",
     "output_type": "stream",
     "text": [
      "include tab here \t hello\n"
     ]
    }
   ],
   "source": [
    "print(\"include tab here \\t hello\")"
   ]
  },
  {
   "cell_type": "code",
   "execution_count": 55,
   "id": "cb6d16c1",
   "metadata": {},
   "outputs": [
    {
     "name": "stdout",
     "output_type": "stream",
     "text": [
      "c\\users\n"
     ]
    }
   ],
   "source": [
    "# first backslash tells python to interpret second backslash literally\n",
    "print('c\\\\users')"
   ]
  },
  {
   "cell_type": "code",
   "execution_count": 67,
   "id": "a9a9e6f7",
   "metadata": {},
   "outputs": [
    {
     "data": {
      "text/plain": [
       "False"
      ]
     },
     "execution_count": 67,
     "metadata": {},
     "output_type": "execute_result"
    }
   ],
   "source": [
    "None == False"
   ]
  },
  {
   "cell_type": "code",
   "execution_count": 68,
   "id": "2ff16874",
   "metadata": {},
   "outputs": [
    {
     "data": {
      "text/plain": [
       "True"
      ]
     },
     "execution_count": 68,
     "metadata": {},
     "output_type": "execute_result"
    }
   ],
   "source": [
    "None == None"
   ]
  },
  {
   "cell_type": "code",
   "execution_count": 70,
   "id": "564de382",
   "metadata": {},
   "outputs": [
    {
     "data": {
      "text/plain": [
       "False"
      ]
     },
     "execution_count": 70,
     "metadata": {},
     "output_type": "execute_result"
    }
   ],
   "source": [
    "None == 0"
   ]
  },
  {
   "cell_type": "code",
   "execution_count": 71,
   "id": "ef8da3d7",
   "metadata": {},
   "outputs": [
    {
     "data": {
      "text/plain": [
       "True"
      ]
     },
     "execution_count": 71,
     "metadata": {},
     "output_type": "execute_result"
    }
   ],
   "source": [
    "False  == 0"
   ]
  },
  {
   "cell_type": "code",
   "execution_count": 4,
   "id": "42e4a5b7",
   "metadata": {},
   "outputs": [
    {
     "data": {
      "text/plain": [
       "1.5"
      ]
     },
     "execution_count": 4,
     "metadata": {},
     "output_type": "execute_result"
    }
   ],
   "source": [
    "3/2\n"
   ]
  },
  {
   "cell_type": "markdown",
   "id": "7f55a473",
   "metadata": {},
   "source": [
    "# STRINGS\n",
    "#### are IMMUTABLE i.e cannot change the contents of string, onlymake new string\n",
    "#### Sequence of characters"
   ]
  },
  {
   "cell_type": "code",
   "execution_count": 3,
   "id": "ce061990",
   "metadata": {},
   "outputs": [
    {
     "name": "stdout",
     "output_type": "stream",
     "text": [
      "Kanika Mittal\n",
      "kanika mittal\n"
     ]
    }
   ],
   "source": [
    "# change case of strings\n",
    "name = 'kAnika mittaL'\n",
    "print(name.title())   #makes first letter as capital\n",
    "print(name.lower())"
   ]
  },
  {
   "cell_type": "code",
   "execution_count": 3,
   "id": "60207749",
   "metadata": {},
   "outputs": [
    {
     "ename": "TypeError",
     "evalue": "'str' object does not support item assignment",
     "output_type": "error",
     "traceback": [
      "\u001b[1;31m---------------------------------------------------------------------------\u001b[0m",
      "\u001b[1;31mTypeError\u001b[0m                                 Traceback (most recent call last)",
      "\u001b[1;32m~\\AppData\\Local\\Temp/ipykernel_8268/2677864822.py\u001b[0m in \u001b[0;36m<module>\u001b[1;34m\u001b[0m\n\u001b[0;32m      1\u001b[0m \u001b[0mfruit\u001b[0m \u001b[1;33m=\u001b[0m \u001b[1;34m'banana'\u001b[0m\u001b[1;33m\u001b[0m\u001b[1;33m\u001b[0m\u001b[0m\n\u001b[1;32m----> 2\u001b[1;33m \u001b[0mfruit\u001b[0m\u001b[1;33m[\u001b[0m\u001b[1;36m0\u001b[0m\u001b[1;33m]\u001b[0m \u001b[1;33m=\u001b[0m \u001b[1;34m'l'\u001b[0m\u001b[1;33m\u001b[0m\u001b[1;33m\u001b[0m\u001b[0m\n\u001b[0m",
      "\u001b[1;31mTypeError\u001b[0m: 'str' object does not support item assignment"
     ]
    }
   ],
   "source": [
    "fruit = 'banana'\n",
    "fruit[0] = 'l'"
   ]
  },
  {
   "cell_type": "code",
   "execution_count": 45,
   "id": "a1ac0c92",
   "metadata": {},
   "outputs": [
    {
     "name": "stdout",
     "output_type": "stream",
     "text": [
      "b\n",
      "n\n",
      "6\n"
     ]
    },
    {
     "ename": "IndexError",
     "evalue": "string index out of range",
     "output_type": "error",
     "traceback": [
      "\u001b[1;31m---------------------------------------------------------------------------\u001b[0m",
      "\u001b[1;31mIndexError\u001b[0m                                Traceback (most recent call last)",
      "\u001b[1;32m~\\AppData\\Local\\Temp/ipykernel_6300/2053003842.py\u001b[0m in \u001b[0;36m<module>\u001b[1;34m\u001b[0m\n\u001b[0;32m      8\u001b[0m \u001b[0mprint\u001b[0m\u001b[1;33m(\u001b[0m\u001b[0mlet\u001b[0m\u001b[1;33m)\u001b[0m\u001b[1;33m\u001b[0m\u001b[1;33m\u001b[0m\u001b[0m\n\u001b[0;32m      9\u001b[0m \u001b[0mprint\u001b[0m\u001b[1;33m(\u001b[0m\u001b[0mlen\u001b[0m\u001b[1;33m(\u001b[0m\u001b[0mfruit\u001b[0m\u001b[1;33m)\u001b[0m\u001b[1;33m)\u001b[0m\u001b[1;33m\u001b[0m\u001b[1;33m\u001b[0m\u001b[0m\n\u001b[1;32m---> 10\u001b[1;33m \u001b[0mprint\u001b[0m\u001b[1;33m(\u001b[0m\u001b[0mlet\u001b[0m\u001b[1;33m[\u001b[0m\u001b[1;36m6\u001b[0m\u001b[1;33m]\u001b[0m\u001b[1;33m)\u001b[0m\u001b[1;33m\u001b[0m\u001b[1;33m\u001b[0m\u001b[0m\n\u001b[0m",
      "\u001b[1;31mIndexError\u001b[0m: string index out of range"
     ]
    }
   ],
   "source": [
    "fruit = 'banana'\n",
    "#[] - index operator\n",
    "letter = fruit[0]\n",
    "print(letter)\n",
    "\n",
    "x = 3\n",
    "let = fruit[x-1]\n",
    "print(let)\n",
    "print(len(fruit)) \n",
    "print(let[6])\n"
   ]
  },
  {
   "cell_type": "code",
   "execution_count": 19,
   "id": "10f9574d",
   "metadata": {},
   "outputs": [
    {
     "name": "stdout",
     "output_type": "stream",
     "text": [
      "B 0\n",
      "A 1\n",
      "N 2\n",
      "A 3\n",
      "N 4\n",
      "A 5\n"
     ]
    }
   ],
   "source": [
    "index = 0\n",
    "while index < len(fruit):\n",
    "    print(fruit[index], index)\n",
    "    index = index+1"
   ]
  },
  {
   "cell_type": "code",
   "execution_count": 20,
   "id": "a309bb8b",
   "metadata": {},
   "outputs": [
    {
     "name": "stdout",
     "output_type": "stream",
     "text": [
      "B\n",
      "A\n",
      "N\n",
      "A\n",
      "N\n",
      "A\n"
     ]
    }
   ],
   "source": [
    "for letter in fruit:\n",
    "    print(letter)"
   ]
  },
  {
   "cell_type": "markdown",
   "id": "5395c31b",
   "metadata": {},
   "source": [
    "#### Can be referenced beyond the end of string\n",
    "EG: s[7:20]"
   ]
  },
  {
   "cell_type": "code",
   "execution_count": 32,
   "id": "ba233973",
   "metadata": {},
   "outputs": [
    {
     "name": "stdout",
     "output_type": "stream",
     "text": [
      "Kan\n",
      "a\n",
      "Mittal\n",
      "Kan\n",
      "Mittal\n",
      "Kanika Mittal\n"
     ]
    }
   ],
   "source": [
    "#slicing\n",
    "s = 'Kanika Mittal'\n",
    "print(s[0:3])\n",
    "print(s[5:6])\n",
    "print(s[7:20])  \n",
    "print(s[:3])\n",
    "print(s[7:])\n",
    "print(s[:])"
   ]
  },
  {
   "cell_type": "code",
   "execution_count": 35,
   "id": "1ddcfeda",
   "metadata": {},
   "outputs": [
    {
     "name": "stdout",
     "output_type": "stream",
     "text": [
      "hellothere\n",
      "False\n"
     ]
    }
   ],
   "source": [
    "#string manipulation\n",
    "print('hello'+'there') #+ - doesnot add space\n",
    "\n",
    "#Using in as logical operator\n",
    "'n' in fruit"
   ]
  },
  {
   "cell_type": "code",
   "execution_count": 38,
   "id": "ff029683",
   "metadata": {},
   "outputs": [
    {
     "data": {
      "text/plain": [
       "False"
      ]
     },
     "execution_count": 38,
     "metadata": {},
     "output_type": "execute_result"
    }
   ],
   "source": [
    "'Nan' in s"
   ]
  },
  {
   "cell_type": "code",
   "execution_count": 46,
   "id": "fac3819c",
   "metadata": {},
   "outputs": [
    {
     "name": "stdout",
     "output_type": "stream",
     "text": [
      "found it\n"
     ]
    }
   ],
   "source": [
    "if 'a' in fruit:\n",
    "    print('found it')"
   ]
  },
  {
   "cell_type": "markdown",
   "id": "fbfc9a85",
   "metadata": {},
   "source": [
    "##### String fucntions - donot modify actual string, return an altered one, is CASE SENSITIVE\n"
   ]
  },
  {
   "cell_type": "code",
   "execution_count": 49,
   "id": "7e25c6e6",
   "metadata": {},
   "outputs": [
    {
     "name": "stdout",
     "output_type": "stream",
     "text": [
      "hello bob\n",
      "Hello Bob\n",
      "hi there\n"
     ]
    }
   ],
   "source": [
    "greet = 'Hello Bob'\n",
    "zap = greet.lower()\n",
    "print(zap)\n",
    "print(greet) #remains unchanged\n",
    "\n",
    "print('HI there'.lower())"
   ]
  },
  {
   "cell_type": "code",
   "execution_count": 51,
   "id": "93ea0364",
   "metadata": {
    "scrolled": true
   },
   "outputs": [
    {
     "data": {
      "text/plain": [
       "['__add__',\n",
       " '__class__',\n",
       " '__contains__',\n",
       " '__delattr__',\n",
       " '__dir__',\n",
       " '__doc__',\n",
       " '__eq__',\n",
       " '__format__',\n",
       " '__ge__',\n",
       " '__getattribute__',\n",
       " '__getitem__',\n",
       " '__getnewargs__',\n",
       " '__gt__',\n",
       " '__hash__',\n",
       " '__init__',\n",
       " '__init_subclass__',\n",
       " '__iter__',\n",
       " '__le__',\n",
       " '__len__',\n",
       " '__lt__',\n",
       " '__mod__',\n",
       " '__mul__',\n",
       " '__ne__',\n",
       " '__new__',\n",
       " '__reduce__',\n",
       " '__reduce_ex__',\n",
       " '__repr__',\n",
       " '__rmod__',\n",
       " '__rmul__',\n",
       " '__setattr__',\n",
       " '__sizeof__',\n",
       " '__str__',\n",
       " '__subclasshook__',\n",
       " 'capitalize',\n",
       " 'casefold',\n",
       " 'center',\n",
       " 'count',\n",
       " 'encode',\n",
       " 'endswith',\n",
       " 'expandtabs',\n",
       " 'find',\n",
       " 'format',\n",
       " 'format_map',\n",
       " 'index',\n",
       " 'isalnum',\n",
       " 'isalpha',\n",
       " 'isascii',\n",
       " 'isdecimal',\n",
       " 'isdigit',\n",
       " 'isidentifier',\n",
       " 'islower',\n",
       " 'isnumeric',\n",
       " 'isprintable',\n",
       " 'isspace',\n",
       " 'istitle',\n",
       " 'isupper',\n",
       " 'join',\n",
       " 'ljust',\n",
       " 'lower',\n",
       " 'lstrip',\n",
       " 'maketrans',\n",
       " 'partition',\n",
       " 'removeprefix',\n",
       " 'removesuffix',\n",
       " 'replace',\n",
       " 'rfind',\n",
       " 'rindex',\n",
       " 'rjust',\n",
       " 'rpartition',\n",
       " 'rsplit',\n",
       " 'rstrip',\n",
       " 'split',\n",
       " 'splitlines',\n",
       " 'startswith',\n",
       " 'strip',\n",
       " 'swapcase',\n",
       " 'title',\n",
       " 'translate',\n",
       " 'upper',\n",
       " 'zfill']"
      ]
     },
     "execution_count": 51,
     "metadata": {},
     "output_type": "execute_result"
    }
   ],
   "source": [
    "dir(greet)"
   ]
  },
  {
   "cell_type": "code",
   "execution_count": 54,
   "id": "ade34fd2",
   "metadata": {},
   "outputs": [
    {
     "name": "stdout",
     "output_type": "stream",
     "text": [
      "Greet\n"
     ]
    }
   ],
   "source": [
    "print('greet'.capitalize())"
   ]
  },
  {
   "cell_type": "code",
   "execution_count": 68,
   "id": "e42f029b",
   "metadata": {},
   "outputs": [
    {
     "name": "stdout",
     "output_type": "stream",
     "text": [
      "-1\n",
      "-1\n",
      "2\n",
      "BANANA\n",
      "banana\n"
     ]
    }
   ],
   "source": [
    "#find - o/ps first occurrence of substring\n",
    "pos = fruit.find('na')\n",
    "print(pos)\n",
    "print(fruit.find('z'))\n",
    "print(fruit.find('NA'))  #case sensitive\n",
    "\n",
    "print(fruit.upper())\n",
    "print(fruit.lower())"
   ]
  },
  {
   "cell_type": "code",
   "execution_count": 72,
   "id": "f1c915c2",
   "metadata": {},
   "outputs": [
    {
     "name": "stdout",
     "output_type": "stream",
     "text": [
      "Hello Jane\n",
      "HellX BXb\n"
     ]
    }
   ],
   "source": [
    "#replace - Search & replace all occurrences\n",
    "greet = 'Hello Bob'\n",
    "zap = greet.replace('Bob','Jane')\n",
    "print(zap)\n",
    "\n",
    "yap = greet.replace('o','X')\n",
    "print(yap)"
   ]
  },
  {
   "cell_type": "code",
   "execution_count": 77,
   "id": "cf71bca1",
   "metadata": {},
   "outputs": [
    {
     "name": "stdout",
     "output_type": "stream",
     "text": [
      "Hello Bob   11\n",
      "Hello Bob 9\n"
     ]
    }
   ],
   "source": [
    "greet = '  Hello Bob  '\n",
    "print(greet.lstrip(), len(greet.lstrip()))\n",
    "print(greet.strip(), len(greet.strip()))"
   ]
  },
  {
   "cell_type": "code",
   "execution_count": 79,
   "id": "64131d70",
   "metadata": {},
   "outputs": [
    {
     "name": "stdout",
     "output_type": "stream",
     "text": [
      "True\n",
      "False\n"
     ]
    }
   ],
   "source": [
    "greet = 'Hello Bob' \n",
    "print(greet.startswith('Hello'))\n",
    "print(greet.startswith('h'))"
   ]
  },
  {
   "cell_type": "code",
   "execution_count": 83,
   "id": "92543857",
   "metadata": {},
   "outputs": [
    {
     "name": "stdout",
     "output_type": "stream",
     "text": [
      "20\n",
      "30\n",
      "gmail.com\n"
     ]
    }
   ],
   "source": [
    "data = 'From kanika.mittal99@gmail.com to You'\n",
    "atpos = data.find('@')\n",
    "print(atpos)\n",
    "\n",
    "spos = data.find(' ', atpos)\n",
    "print(spos)\n",
    "\n",
    "sl= data[atpos+1:spos]\n",
    "print(sl)"
   ]
  },
  {
   "cell_type": "code",
   "execution_count": 84,
   "id": "3f39e672",
   "metadata": {},
   "outputs": [
    {
     "name": "stdout",
     "output_type": "stream",
     "text": [
      "42\n"
     ]
    }
   ],
   "source": [
    "print(len('banana')*7)"
   ]
  },
  {
   "cell_type": "markdown",
   "id": "d2290074",
   "metadata": {},
   "source": [
    "## File Handling"
   ]
  },
  {
   "cell_type": "code",
   "execution_count": 15,
   "id": "cb9f0034",
   "metadata": {},
   "outputs": [],
   "source": [
    "#file handle lets us open, close, read, write i.e manipulate the file\n",
    "handle = open('C://Users//user//NOTEBOOKS//mbox.txt', 'r')  #read/write = mode "
   ]
  },
  {
   "cell_type": "code",
   "execution_count": 4,
   "id": "b2ab35bc",
   "metadata": {},
   "outputs": [
    {
     "data": {
      "text/plain": [
       "'Hello\\nWorld'"
      ]
     },
     "execution_count": 4,
     "metadata": {},
     "output_type": "execute_result"
    }
   ],
   "source": [
    "# Newline character\n",
    "stuff = 'Hello\\nWorld'\n",
    "stuff"
   ]
  },
  {
   "cell_type": "code",
   "execution_count": 5,
   "id": "c9023168",
   "metadata": {},
   "outputs": [
    {
     "name": "stdout",
     "output_type": "stream",
     "text": [
      "Hello\n",
      "World\n"
     ]
    }
   ],
   "source": [
    "print(stuff)"
   ]
  },
  {
   "cell_type": "code",
   "execution_count": 6,
   "id": "dc17311f",
   "metadata": {},
   "outputs": [
    {
     "data": {
      "text/plain": [
       "3"
      ]
     },
     "execution_count": 6,
     "metadata": {},
     "output_type": "execute_result"
    }
   ],
   "source": [
    "len('x\\ny') #newline is one character"
   ]
  },
  {
   "cell_type": "code",
   "execution_count": 22,
   "id": "f9e51be8",
   "metadata": {},
   "outputs": [
    {
     "name": "stdout",
     "output_type": "stream",
     "text": [
      "132045\n"
     ]
    }
   ],
   "source": [
    "# handle is treated as a sequence of strings\n",
    "# a sequence is an ordered set\n",
    "handle = open('C://Users//user//NOTEBOOKS//mbox.txt', 'r')  #read/write = mode \n",
    "count = 0\n",
    "for x in handle:\n",
    "    count +=1\n",
    "    \n",
    "print(count)"
   ]
  },
  {
   "cell_type": "code",
   "execution_count": 25,
   "id": "2da8b7f8",
   "metadata": {},
   "outputs": [
    {
     "name": "stdout",
     "output_type": "stream",
     "text": [
      "From stephen.marquar\n",
      "94626\n"
     ]
    }
   ],
   "source": [
    "# READING WHOLE FILE\n",
    "fhand = open('C://Users//user//NOTEBOOKS//mbox-short.txt', 'r')\n",
    "inp = fhand.read()  #reads whole file into single string\n",
    "print(inp[:20])\n",
    "print(len(inp))"
   ]
  },
  {
   "cell_type": "code",
   "execution_count": 27,
   "id": "123976f3",
   "metadata": {
    "collapsed": true
   },
   "outputs": [
    {
     "name": "stdout",
     "output_type": "stream",
     "text": [
      "From: stephen.marquard@uct.ac.za\n",
      "\n",
      "From: louis@media.berkeley.edu\n",
      "\n",
      "From: zqian@umich.edu\n",
      "\n",
      "From: rjlowe@iupui.edu\n",
      "\n",
      "From: zqian@umich.edu\n",
      "\n",
      "From: rjlowe@iupui.edu\n",
      "\n",
      "From: cwen@iupui.edu\n",
      "\n",
      "From: cwen@iupui.edu\n",
      "\n",
      "From: gsilver@umich.edu\n",
      "\n",
      "From: gsilver@umich.edu\n",
      "\n",
      "From: zqian@umich.edu\n",
      "\n",
      "From: gsilver@umich.edu\n",
      "\n",
      "From: wagnermr@iupui.edu\n",
      "\n",
      "From: zqian@umich.edu\n",
      "\n",
      "From: antranig@caret.cam.ac.uk\n",
      "\n",
      "From: gopal.ramasammycook@gmail.com\n",
      "\n",
      "From: david.horwitz@uct.ac.za\n",
      "\n",
      "From: david.horwitz@uct.ac.za\n",
      "\n",
      "From: david.horwitz@uct.ac.za\n",
      "\n",
      "From: david.horwitz@uct.ac.za\n",
      "\n",
      "From: stephen.marquard@uct.ac.za\n",
      "\n",
      "From: louis@media.berkeley.edu\n",
      "\n",
      "From: louis@media.berkeley.edu\n",
      "\n",
      "From: ray@media.berkeley.edu\n",
      "\n",
      "From: cwen@iupui.edu\n",
      "\n",
      "From: cwen@iupui.edu\n",
      "\n",
      "From: cwen@iupui.edu\n",
      "\n"
     ]
    }
   ],
   "source": [
    "fhand = open('C://Users//user//NOTEBOOKS//mbox-short.txt')\n",
    "for line in fhand:\n",
    "    if line.startswith('From:'):\n",
    "        print(line)\n",
    "        \n",
    "#extra blank line? Each line from file has an \\n which sends cursor to next line, print fn also adds a newline"
   ]
  },
  {
   "cell_type": "code",
   "execution_count": 28,
   "id": "f0dc2f56",
   "metadata": {
    "collapsed": true
   },
   "outputs": [
    {
     "name": "stdout",
     "output_type": "stream",
     "text": [
      "From: stephen.marquard@uct.ac.za\n",
      "From: louis@media.berkeley.edu\n",
      "From: zqian@umich.edu\n",
      "From: rjlowe@iupui.edu\n",
      "From: zqian@umich.edu\n",
      "From: rjlowe@iupui.edu\n",
      "From: cwen@iupui.edu\n",
      "From: cwen@iupui.edu\n",
      "From: gsilver@umich.edu\n",
      "From: gsilver@umich.edu\n",
      "From: zqian@umich.edu\n",
      "From: gsilver@umich.edu\n",
      "From: wagnermr@iupui.edu\n",
      "From: zqian@umich.edu\n",
      "From: antranig@caret.cam.ac.uk\n",
      "From: gopal.ramasammycook@gmail.com\n",
      "From: david.horwitz@uct.ac.za\n",
      "From: david.horwitz@uct.ac.za\n",
      "From: david.horwitz@uct.ac.za\n",
      "From: david.horwitz@uct.ac.za\n",
      "From: stephen.marquard@uct.ac.za\n",
      "From: louis@media.berkeley.edu\n",
      "From: louis@media.berkeley.edu\n",
      "From: ray@media.berkeley.edu\n",
      "From: cwen@iupui.edu\n",
      "From: cwen@iupui.edu\n",
      "From: cwen@iupui.edu\n"
     ]
    }
   ],
   "source": [
    "#stripping white space\n",
    "fhand = open('C://Users//user//NOTEBOOKS//mbox-short.txt')\n",
    "for line in fhand:\n",
    "    line = line.rstrip()\n",
    "    if line.startswith('From:'):\n",
    "        print(line)"
   ]
  },
  {
   "cell_type": "code",
   "execution_count": 29,
   "id": "d1e485e3",
   "metadata": {
    "collapsed": true
   },
   "outputs": [
    {
     "name": "stdout",
     "output_type": "stream",
     "text": [
      "From: stephen.marquard@uct.ac.za\n",
      "From: louis@media.berkeley.edu\n",
      "From: zqian@umich.edu\n",
      "From: rjlowe@iupui.edu\n",
      "From: zqian@umich.edu\n",
      "From: rjlowe@iupui.edu\n",
      "From: cwen@iupui.edu\n",
      "From: cwen@iupui.edu\n",
      "From: gsilver@umich.edu\n",
      "From: gsilver@umich.edu\n",
      "From: zqian@umich.edu\n",
      "From: gsilver@umich.edu\n",
      "From: wagnermr@iupui.edu\n",
      "From: zqian@umich.edu\n",
      "From: antranig@caret.cam.ac.uk\n",
      "From: gopal.ramasammycook@gmail.com\n",
      "From: david.horwitz@uct.ac.za\n",
      "From: david.horwitz@uct.ac.za\n",
      "From: david.horwitz@uct.ac.za\n",
      "From: david.horwitz@uct.ac.za\n",
      "From: stephen.marquard@uct.ac.za\n",
      "From: louis@media.berkeley.edu\n",
      "From: louis@media.berkeley.edu\n",
      "From: ray@media.berkeley.edu\n",
      "From: cwen@iupui.edu\n",
      "From: cwen@iupui.edu\n",
      "From: cwen@iupui.edu\n"
     ]
    }
   ],
   "source": [
    "# skipping lines using continue\n",
    "fhand = open('C://Users//user//NOTEBOOKS//mbox-short.txt')\n",
    "for line in fhand:\n",
    "    line = line.rstrip()\n",
    "    if not line.startswith('From:'):\n",
    "        continue\n",
    "    print(line)"
   ]
  },
  {
   "cell_type": "code",
   "execution_count": 1,
   "id": "f5504939",
   "metadata": {},
   "outputs": [
    {
     "name": "stdout",
     "output_type": "stream",
     "text": [
      "Enter file name: ooo\n",
      "file ooo cannot be opened\n"
     ]
    }
   ],
   "source": [
    "fname = input('Enter file name: ')\n",
    "try:\n",
    "    fhand = open(fname)\n",
    "except:\n",
    "    print('file {} cannot be opened'.format(fname))\n",
    "    #quit()"
   ]
  },
  {
   "cell_type": "code",
   "execution_count": 12,
   "id": "fffea8f4",
   "metadata": {},
   "outputs": [
    {
     "name": "stdout",
     "output_type": "stream",
     "text": [
      "KANika2 \"HELLO\"\n",
      "kanIKA2 \"hello\"\n"
     ]
    }
   ],
   "source": [
    "# sample i/p : KANika2 \"HELLO\"\n",
    "\n",
    "def swap(s):\n",
    "    y = ''\n",
    "    for x in s:\n",
    "        if x.islower():\n",
    "            y = y + x.upper()\n",
    "        elif x.isupper():\n",
    "            y = y + x.lower()\n",
    "        else:\n",
    "            y = y+ x\n",
    "    return y\n",
    "s = input()\n",
    "output = swap(s)\n",
    "print(output)"
   ]
  },
  {
   "cell_type": "code",
   "execution_count": 13,
   "id": "54971499",
   "metadata": {},
   "outputs": [
    {
     "name": "stdout",
     "output_type": "stream",
     "text": [
      "Hello\n",
      "2 P\n",
      "HePlo\n"
     ]
    }
   ],
   "source": [
    "# i/p 1 : Hello\n",
    "# i/p 2 : 2 P\n",
    "def mutate_string(string, position, character):\n",
    "    y = ''\n",
    "    for i in range(len(string)):\n",
    "        if i != position:\n",
    "            y = y + string[i]\n",
    "        else:\n",
    "            y = y + character    \n",
    "    return y\n",
    "##return string[:position]+character+string[position+1:]\n",
    "\n",
    "s = input()\n",
    "i, c = input().split()\n",
    "s_new = mutate_string(s, int(i), c)\n",
    "print(s_new)"
   ]
  },
  {
   "cell_type": "code",
   "execution_count": null,
   "id": "9c20acf9",
   "metadata": {},
   "outputs": [],
   "source": [
    "# i/p: ABCDCDC\n",
    "# i/p 2 : CDC\n",
    "def count_substring(string, sub_string):\n",
    "    count = 0\n",
    "    start = 0 \n",
    "    while start < len(string):\n",
    "        pos = string.find(sub_string,start)\n",
    "        if pos != -1:\n",
    "            start = start + pos + 1\n",
    "            count += 1\n",
    "        else:\n",
    "            break\n",
    "    return count\n",
    "\n",
    "string = input().strip()\n",
    "sub_string = input().strip()\n",
    "    \n",
    "count = count_substring(string, sub_string)\n",
    "print(count)"
   ]
  },
  {
   "cell_type": "code",
   "execution_count": 2,
   "id": "a8470bfa",
   "metadata": {},
   "outputs": [
    {
     "name": "stdout",
     "output_type": "stream",
     "text": [
      "qA2\n",
      "True\n",
      "True\n",
      "True\n"
     ]
    }
   ],
   "source": [
    "#check if any of string contents is alphanum, alpha,digit etc\n",
    "# input: qA2\n",
    "s = input()\n",
    "print(any(i.isalnum() for i in s))\n",
    "print(any(i.isalpha() for i in s))\n",
    "print(any(i.isdigit() for i in s))"
   ]
  },
  {
   "cell_type": "code",
   "execution_count": null,
   "id": "015d9f7a",
   "metadata": {},
   "outputs": [],
   "source": [
    "#Text wrapping\n",
    "import textwrap\n",
    "\n",
    "def wrap(string, max_width):\n",
    "    s = ''\n",
    "    wrapper = textwrap.TextWrapper(max_width)   \n",
    "    y = wrapper.wrap(string)\n",
    "    #for i in y:\n",
    "        #print(i)\n",
    "    for i in y:\n",
    "        s = s + i + '\\n'\n",
    "    return s\n",
    "\n",
    "string, max_width = input(), int(input())\n",
    "result = wrap(string, max_width)\n",
    "print(result)"
   ]
  },
  {
   "cell_type": "code",
   "execution_count": 1,
   "id": "6cecf1ad",
   "metadata": {
    "scrolled": true
   },
   "outputs": [
    {
     "ename": "AttributeError",
     "evalue": "'str' object has no attribute 'append'",
     "output_type": "error",
     "traceback": [
      "\u001b[1;31m---------------------------------------------------------------------------\u001b[0m",
      "\u001b[1;31mAttributeError\u001b[0m                            Traceback (most recent call last)",
      "\u001b[1;32m~\\AppData\\Local\\Temp/ipykernel_5964/3600827903.py\u001b[0m in \u001b[0;36m<module>\u001b[1;34m\u001b[0m\n\u001b[0;32m      1\u001b[0m \u001b[0ma\u001b[0m \u001b[1;33m=\u001b[0m \u001b[1;34m'Hello'\u001b[0m\u001b[1;33m\u001b[0m\u001b[1;33m\u001b[0m\u001b[0m\n\u001b[1;32m----> 2\u001b[1;33m \u001b[0ma\u001b[0m\u001b[1;33m.\u001b[0m\u001b[0mappend\u001b[0m\u001b[1;33m(\u001b[0m\u001b[1;34m'b'\u001b[0m\u001b[1;33m)\u001b[0m\u001b[1;33m\u001b[0m\u001b[1;33m\u001b[0m\u001b[0m\n\u001b[0m",
      "\u001b[1;31mAttributeError\u001b[0m: 'str' object has no attribute 'append'"
     ]
    }
   ],
   "source": []
  },
  {
   "cell_type": "code",
   "execution_count": null,
   "id": "570203bf",
   "metadata": {},
   "outputs": [],
   "source": []
  }
 ],
 "metadata": {
  "kernelspec": {
   "display_name": "Python 3 (ipykernel)",
   "language": "python",
   "name": "python3"
  },
  "language_info": {
   "codemirror_mode": {
    "name": "ipython",
    "version": 3
   },
   "file_extension": ".py",
   "mimetype": "text/x-python",
   "name": "python",
   "nbconvert_exporter": "python",
   "pygments_lexer": "ipython3",
   "version": "3.9.7"
  }
 },
 "nbformat": 4,
 "nbformat_minor": 5
}
