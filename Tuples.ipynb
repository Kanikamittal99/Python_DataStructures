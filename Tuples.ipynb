{
 "cells": [
  {
   "cell_type": "markdown",
   "id": "4dc7df89",
   "metadata": {},
   "source": [
    "#### Unlike lists, Tuples are IMMUTABLE i.e cannot alter its contents (Just like string)\n",
    "##### Cannot sort, append, reverse tuple\n",
    "##### Are more efficient in terms of memory use & performance than lists. Hence, words good for temp variables"
   ]
  },
  {
   "cell_type": "code",
   "execution_count": 6,
   "id": "801d8a0e",
   "metadata": {},
   "outputs": [
    {
     "name": "stdout",
     "output_type": "stream",
     "text": [
      "['__add__', '__class__', '__class_getitem__', '__contains__', '__delattr__', '__dir__', '__doc__', '__eq__', '__format__', '__ge__', '__getattribute__', '__getitem__', '__getnewargs__', '__gt__', '__hash__', '__init__', '__init_subclass__', '__iter__', '__le__', '__len__', '__lt__', '__mul__', '__ne__', '__new__', '__reduce__', '__reduce_ex__', '__repr__', '__rmul__', '__setattr__', '__sizeof__', '__str__', '__subclasshook__', 'count', 'index']\n"
     ]
    }
   ],
   "source": [
    "t = tuple()\n",
    "print(dir(t))"
   ]
  },
  {
   "cell_type": "code",
   "execution_count": 3,
   "id": "092ca85a",
   "metadata": {},
   "outputs": [
    {
     "data": {
      "text/plain": [
       "'ghj'"
      ]
     },
     "execution_count": 3,
     "metadata": {},
     "output_type": "execute_result"
    }
   ],
   "source": [
    "x = ('abc','ghj','mnj')\n",
    "x[1]"
   ]
  },
  {
   "cell_type": "code",
   "execution_count": 2,
   "id": "0f6cc156",
   "metadata": {},
   "outputs": [
    {
     "name": "stdout",
     "output_type": "stream",
     "text": [
      "1\n",
      "3\n",
      "4\n",
      "5\n"
     ]
    }
   ],
   "source": [
    "y = (1,3,4,5)\n",
    "for a in y:\n",
    "    print(a)"
   ]
  },
  {
   "cell_type": "markdown",
   "id": "8ea6e282",
   "metadata": {},
   "source": [
    "##### Tuples & Assignment"
   ]
  },
  {
   "cell_type": "code",
   "execution_count": 7,
   "id": "a9a8b611",
   "metadata": {},
   "outputs": [
    {
     "name": "stdout",
     "output_type": "stream",
     "text": [
      "ram 70\n"
     ]
    }
   ],
   "source": [
    "(x,y) = ('ram',70)\n",
    "print(x,y)"
   ]
  },
  {
   "cell_type": "code",
   "execution_count": 10,
   "id": "0d51b308",
   "metadata": {},
   "outputs": [
    {
     "name": "stdout",
     "output_type": "stream",
     "text": [
      "money 12\n",
      "candy 5\n"
     ]
    }
   ],
   "source": [
    "purse = dict()\n",
    "purse['money'] = 12\n",
    "purse['candy'] = 5\n",
    "for (a,b) in purse.items():  #items() returns list of TUPLES, which are then assigned to 2 variables\n",
    "    print(a,b)"
   ]
  },
  {
   "cell_type": "markdown",
   "id": "6c62698b",
   "metadata": {},
   "source": [
    "##### Tuples are comparable"
   ]
  },
  {
   "cell_type": "code",
   "execution_count": 15,
   "id": "b3c1c2d7",
   "metadata": {},
   "outputs": [
    {
     "data": {
      "text/plain": [
       "True"
      ]
     },
     "execution_count": 15,
     "metadata": {},
     "output_type": "execute_result"
    }
   ],
   "source": [
    "# checks if 3 is greater than 2, if true ouput true\n",
    "# if false, compare 8 & 9, if true o/p true, else repeat\n",
    "(3,8,1) > (2,9,4)"
   ]
  },
  {
   "cell_type": "code",
   "execution_count": 16,
   "id": "8a296de5",
   "metadata": {},
   "outputs": [
    {
     "data": {
      "text/plain": [
       "False"
      ]
     },
     "execution_count": 16,
     "metadata": {},
     "output_type": "execute_result"
    }
   ],
   "source": [
    "('John','Adams') > ('John','Sally')"
   ]
  },
  {
   "cell_type": "markdown",
   "id": "729bf83d",
   "metadata": {},
   "source": [
    "##### Sorting list of tuples"
   ]
  },
  {
   "cell_type": "code",
   "execution_count": 22,
   "id": "cf5336c8",
   "metadata": {},
   "outputs": [
    {
     "data": {
      "text/plain": [
       "[('a', 1), ('c', 3), ('q', 9)]"
      ]
     },
     "execution_count": 22,
     "metadata": {},
     "output_type": "execute_result"
    }
   ],
   "source": [
    "d = {'a':1,'q':9,'c':3}\n",
    "sorted(d.items())"
   ]
  },
  {
   "cell_type": "code",
   "execution_count": 20,
   "id": "37d0c1d5",
   "metadata": {},
   "outputs": [
    {
     "name": "stdout",
     "output_type": "stream",
     "text": [
      "a 1\n",
      "c 3\n",
      "q 2\n"
     ]
    }
   ],
   "source": [
    "# Sorting by Key\n",
    "for k,v in sorted(d.items()):\n",
    "    print(k,v)"
   ]
  },
  {
   "cell_type": "code",
   "execution_count": 27,
   "id": "55436919",
   "metadata": {},
   "outputs": [
    {
     "name": "stdout",
     "output_type": "stream",
     "text": [
      "tmp [(1, 'a'), (9, 'q'), (3, 'c')]\n"
     ]
    },
    {
     "data": {
      "text/plain": [
       "[(9, 'q'), (3, 'c'), (1, 'a')]"
      ]
     },
     "execution_count": 27,
     "metadata": {},
     "output_type": "execute_result"
    }
   ],
   "source": [
    "# Sorting by Value\n",
    "tmp = []\n",
    "for k,v in d.items():\n",
    "    tmp.append((v,k))\n",
    "print('tmp',tmp)\n",
    "\n",
    "tmp = sorted(tmp, reverse = True)  # reverse = Sort High to Low\n",
    "tmp"
   ]
  },
  {
   "cell_type": "code",
   "execution_count": 33,
   "id": "5704f6b1",
   "metadata": {},
   "outputs": [
    {
     "name": "stdout",
     "output_type": "stream",
     "text": [
      "to 16\n",
      "the 6\n",
      "we 5\n",
      "our 5\n",
      "of 5\n",
      "do 5\n",
      "computers 5\n",
      "and 5\n",
      "you 4\n",
      "that 4\n"
     ]
    }
   ],
   "source": [
    "# finding 10 most common words\n",
    "handle = open('C://Users//user//NOTEBOOKS//words.txt')\n",
    "\n",
    "counts = {}\n",
    "for line in handle:\n",
    "    words = line.split()\n",
    "    for word in words:\n",
    "        counts[word] = counts.get(word,0) + 1\n",
    "\n",
    "# creating list of tuples(v,k)\n",
    "lst = list()\n",
    "for k,v in counts.items():\n",
    "    tupp = (v,k)\n",
    "    lst.append(tupp)\n",
    "\n",
    "# Sort based on value\n",
    "lst = sorted(lst, reverse = True)\n",
    "\n",
    "for (v,k) in lst[:10]:\n",
    "    print(k,v)"
   ]
  },
  {
   "cell_type": "code",
   "execution_count": 32,
   "id": "358f053d",
   "metadata": {},
   "outputs": [
    {
     "data": {
      "text/plain": [
       "[(16, 'to'),\n",
       " (6, 'the'),\n",
       " (5, 'we'),\n",
       " (5, 'our'),\n",
       " (5, 'of'),\n",
       " (5, 'do'),\n",
       " (5, 'computers'),\n",
       " (5, 'and'),\n",
       " (4, 'you'),\n",
       " (4, 'that'),\n",
       " (4, 'can'),\n",
       " (3, 'things'),\n",
       " (3, 'are'),\n",
       " (3, 'a'),\n",
       " (2, 'your'),\n",
       " (2, 'would'),\n",
       " (2, 'with'),\n",
       " (2, 'what'),\n",
       " (2, 'very'),\n",
       " (2, 'us'),\n",
       " (2, 'ranging'),\n",
       " (2, 'programs'),\n",
       " (2, 'problem'),\n",
       " (2, 'on'),\n",
       " (2, 'next'),\n",
       " (2, 'many'),\n",
       " (2, 'like'),\n",
       " (2, 'language'),\n",
       " (2, 'know'),\n",
       " (2, 'knew'),\n",
       " (2, 'kinds'),\n",
       " (2, 'is'),\n",
       " (2, 'in'),\n",
       " (2, 'how'),\n",
       " (2, 'from'),\n",
       " (2, 'could'),\n",
       " (2, 'computer'),\n",
       " (2, 'behalf'),\n",
       " (2, 'We'),\n",
       " (1, '{\\\\em'),\n",
       " (1, 'write'),\n",
       " (1, 'will'),\n",
       " (1, 'who'),\n",
       " (1, 'were'),\n",
       " (1, 'want'),\n",
       " (1, 'vasts'),\n",
       " (1, 'this'),\n",
       " (1, 'think'),\n",
       " (1, 'these'),\n",
       " (1, 'tell'),\n",
       " (1, 'tasks'),\n",
       " (1, 'take'),\n",
       " (1, 'surrounded'),\n",
       " (1, 'speak'),\n",
       " (1, 'someone'),\n",
       " (1, 'solving'),\n",
       " (1, 'solve'),\n",
       " (1, 'skills'),\n",
       " (1, 'rewarding'),\n",
       " (1, 'reptitive'),\n",
       " (1, 'reasons'),\n",
       " (1, 'question'),\n",
       " (1, 'programming'),\n",
       " (1, 'program,'),\n",
       " (1, 'program'),\n",
       " (1, 'phones'),\n",
       " (1, 'personal'),\n",
       " (1, 'out'),\n",
       " (1, 'or'),\n",
       " (1, 'only'),\n",
       " (1, 'once'),\n",
       " (1, 'often'),\n",
       " (1, 'newfound'),\n",
       " (1, 'needs'),\n",
       " (1, 'mind-numbing'),\n",
       " (1, 'memory'),\n",
       " (1, 'me'),\n",
       " (1, 'making'),\n",
       " (1, 'living'),\n",
       " (1, 'lives'),\n",
       " (1, 'laptops'),\n",
       " (1, 'it'),\n",
       " (1, 'if'),\n",
       " (1, 'humans'),\n",
       " (1, 'helping'),\n",
       " (1, 'helpful'),\n",
       " (1, 'having'),\n",
       " (1, 'have'),\n",
       " (1, 'hardware'),\n",
       " (1, 'fun'),\n",
       " (1, 'for'),\n",
       " (1, 'find'),\n",
       " (1, 'figure'),\n",
       " (1, 'fast'),\n",
       " (1, 'explain'),\n",
       " (1, 'everyone}'),\n",
       " (1, 'essentially'),\n",
       " (1, 'else'),\n",
       " (1, 'difficult'),\n",
       " (1, 'data'),\n",
       " (1, 'daily'),\n",
       " (1, 'current-day'),\n",
       " (1, 'creative'),\n",
       " (1, 'continuously'),\n",
       " (1, 'cell'),\n",
       " (1, 'care'),\n",
       " (1, 'built'),\n",
       " (1, 'boring'),\n",
       " (1, 'book'),\n",
       " (1, 'best'),\n",
       " (1, 'be'),\n",
       " (1, 'assumes'),\n",
       " (1, 'assistants'),\n",
       " (1, 'ask'),\n",
       " (1, 'as'),\n",
       " (1, 'analysis'),\n",
       " (1, 'amounts'),\n",
       " (1, 'activity'),\n",
       " (1, 'You'),\n",
       " (1, 'Writing'),\n",
       " (1, 'What'),\n",
       " (1, 'This'),\n",
       " (1, 'The'),\n",
       " (1, 'Our'),\n",
       " (1, 'Interestingly,'),\n",
       " (1, 'If')]"
      ]
     },
     "execution_count": 32,
     "metadata": {},
     "output_type": "execute_result"
    }
   ],
   "source": []
  },
  {
   "cell_type": "code",
   "execution_count": null,
   "id": "387f9695",
   "metadata": {},
   "outputs": [],
   "source": []
  }
 ],
 "metadata": {
  "kernelspec": {
   "display_name": "Python 3 (ipykernel)",
   "language": "python",
   "name": "python3"
  },
  "language_info": {
   "codemirror_mode": {
    "name": "ipython",
    "version": 3
   },
   "file_extension": ".py",
   "mimetype": "text/x-python",
   "name": "python",
   "nbconvert_exporter": "python",
   "pygments_lexer": "ipython3",
   "version": "3.9.7"
  }
 },
 "nbformat": 4,
 "nbformat_minor": 5
}
