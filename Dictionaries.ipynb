{
 "cells": [
  {
   "cell_type": "markdown",
   "id": "e3f5eef7",
   "metadata": {},
   "source": [
    "Allow us to do fast DB like operations in Python\n",
    "\n",
    "No order in dictionaries\n",
    "\n",
    "Mutable"
   ]
  },
  {
   "cell_type": "code",
   "execution_count": 13,
   "id": "c8001d43",
   "metadata": {},
   "outputs": [
    {
     "name": "stdout",
     "output_type": "stream",
     "text": [
      "{'money': 12, 'candy': 5, 'tissues': 7}\n",
      "5\n",
      "15\n"
     ]
    }
   ],
   "source": [
    "purse = dict()\n",
    "purse['money'] = 12\n",
    "purse['candy'] = 5\n",
    "purse['tissues'] = 7\n",
    "print(purse)\n",
    "print(purse['candy'])\n",
    "purse['candy'] = purse['candy'] +10\n",
    "print(purse['candy'])"
   ]
  },
  {
   "cell_type": "markdown",
   "id": "833a729a",
   "metadata": {},
   "source": [
    "##### Dict & lists -  both are same except dict uses KEYS to lookup values while lists uses INDEX(numbers)"
   ]
  },
  {
   "cell_type": "code",
   "execution_count": 1,
   "id": "4db6d151",
   "metadata": {},
   "outputs": [
    {
     "name": "stdout",
     "output_type": "stream",
     "text": [
      "{}\n"
     ]
    },
    {
     "data": {
      "text/plain": [
       "{'HEllo': 2, 'Goodbye': 4}"
      ]
     },
     "execution_count": 1,
     "metadata": {},
     "output_type": "execute_result"
    }
   ],
   "source": [
    "ab = {}\n",
    "print(ab)\n",
    "\n",
    "cd = {'HEllo':2, 'Goodbye':4}\n",
    "cd"
   ]
  },
  {
   "cell_type": "code",
   "execution_count": 2,
   "id": "3ff47278",
   "metadata": {},
   "outputs": [
    {
     "data": {
      "text/plain": [
       "True"
      ]
     },
     "execution_count": 2,
     "metadata": {},
     "output_type": "execute_result"
    }
   ],
   "source": [
    "'Goodbye' in cd"
   ]
  },
  {
   "cell_type": "code",
   "execution_count": 4,
   "id": "3d19eb13",
   "metadata": {},
   "outputs": [
    {
     "data": {
      "text/plain": [
       "{'abc': 2, 'cdf': 1, 'ghy': 1}"
      ]
     },
     "execution_count": 4,
     "metadata": {},
     "output_type": "execute_result"
    }
   ],
   "source": [
    "#counting elements in dict\n",
    "counts = dict()\n",
    "names = ['abc','cdf','ghy','abc']\n",
    "for name in names:\n",
    "    if name not in counts:\n",
    "        counts[name] = 1\n",
    "    else:\n",
    "        counts[name] = counts[name] + 1\n",
    "        \n",
    "counts        "
   ]
  },
  {
   "cell_type": "markdown",
   "id": "9cd29531",
   "metadata": {},
   "source": [
    "##### using GET()\n"
   ]
  },
  {
   "cell_type": "code",
   "execution_count": 8,
   "id": "cb3146cd",
   "metadata": {},
   "outputs": [
    {
     "data": {
      "text/plain": [
       "0"
      ]
     },
     "execution_count": 8,
     "metadata": {},
     "output_type": "execute_result"
    }
   ],
   "source": [
    "#fetch something from list/dict, if no value for that key present set default value(zero here)\n",
    "x = counts.get('abc',0)\n",
    "x"
   ]
  },
  {
   "cell_type": "code",
   "execution_count": 9,
   "id": "695f8651",
   "metadata": {},
   "outputs": [
    {
     "data": {
      "text/plain": [
       "{'abc': 2, 'cdf': 1, 'ghy': 1}"
      ]
     },
     "execution_count": 9,
     "metadata": {},
     "output_type": "execute_result"
    }
   ],
   "source": [
    "counts = dict()\n",
    "names = ['abc','cdf','ghy','abc']\n",
    "for name in names:\n",
    "    counts[name] = counts.get(name,0) + 1\n",
    "counts"
   ]
  },
  {
   "cell_type": "markdown",
   "id": "823e8739",
   "metadata": {},
   "source": [
    "#### Dictionaries & files"
   ]
  },
  {
   "cell_type": "code",
   "execution_count": 11,
   "id": "3bf12f0a",
   "metadata": {},
   "outputs": [
    {
     "name": "stdout",
     "output_type": "stream",
     "text": [
      "Enter a line of text:\n",
      "The apple is the fruit of the Devil's land\n",
      "Counts:  {'The': 1, 'apple': 1, 'is': 1, 'the': 2, 'fruit': 1, 'of': 1, \"Devil's\": 1, 'land': 1}\n"
     ]
    }
   ],
   "source": [
    "print('Enter a line of text:')\n",
    "line = input('')\n",
    "\n",
    "words = line.split()\n",
    "\n",
    "counts = {}\n",
    "for word in words:\n",
    "    counts[word] = counts.get(word,0) + 1\n",
    "\n",
    "print('Counts: ',counts)"
   ]
  },
  {
   "cell_type": "code",
   "execution_count": 12,
   "id": "591302f6",
   "metadata": {},
   "outputs": [
    {
     "name": "stdout",
     "output_type": "stream",
     "text": [
      "The 1\n",
      "apple 1\n",
      "is 1\n",
      "the 2\n",
      "fruit 1\n",
      "of 1\n",
      "Devil's 1\n",
      "land 1\n"
     ]
    }
   ],
   "source": [
    "# order is unpredictable in dictionaries\n",
    "for key in counts:\n",
    "    print(key, counts[key])"
   ]
  },
  {
   "cell_type": "markdown",
   "id": "9695d5cb",
   "metadata": {},
   "source": [
    "#### Retrieving list of keys and values"
   ]
  },
  {
   "cell_type": "code",
   "execution_count": 19,
   "id": "a07c7c8b",
   "metadata": {},
   "outputs": [
    {
     "name": "stdout",
     "output_type": "stream",
     "text": [
      "['money', 'candy', 'tissues']\n",
      "dict_keys(['money', 'candy', 'tissues'])\n",
      "dict_values([12, 5, 7])\n",
      "dict_items([('money', 12), ('candy', 5), ('tissues', 7)])\n"
     ]
    }
   ],
   "source": [
    "purse = dict()\n",
    "purse['money'] = 12\n",
    "purse['candy'] = 5\n",
    "purse['tissues'] = 7\n",
    "\n",
    "print(list(purse))\n",
    "print(purse.keys())  #list of keys\n",
    "print(purse.values())\n",
    "print(purse.items())\n",
    "\n",
    "# it is not necssary that the order will remain same for all keys/values/items"
   ]
  },
  {
   "cell_type": "code",
   "execution_count": 20,
   "id": "13da7651",
   "metadata": {},
   "outputs": [
    {
     "name": "stdout",
     "output_type": "stream",
     "text": [
      "money 12\n",
      "candy 5\n",
      "tissues 7\n"
     ]
    }
   ],
   "source": [
    "for kk,vv in purse.items():\n",
    "    print(kk, vv)"
   ]
  },
  {
   "cell_type": "code",
   "execution_count": 7,
   "id": "e323a36c",
   "metadata": {},
   "outputs": [
    {
     "name": "stdout",
     "output_type": "stream",
     "text": [
      "counts:  {'Writing': 1, 'programs': 2, 'or': 1, 'programming': 1, 'is': 2, 'a': 3, 'very': 2, 'creative': 1, 'and': 5, 'rewarding': 1, 'activity': 1, 'You': 1, 'can': 4, 'write': 1, 'for': 1, 'many': 2, 'reasons': 1, 'ranging': 2, 'from': 2, 'making': 1, 'your': 2, 'living': 1, 'to': 16, 'solving': 1, 'difficult': 1, 'data': 1, 'analysis': 1, 'problem': 2, 'having': 1, 'fun': 1, 'helping': 1, 'someone': 1, 'else': 1, 'solve': 1, 'This': 1, 'book': 1, 'assumes': 1, 'that': 4, '{\\\\em': 1, 'everyone}': 1, 'needs': 1, 'know': 2, 'how': 2, 'program': 1, 'once': 1, 'you': 4, 'program,': 1, 'will': 1, 'figure': 1, 'out': 1, 'what': 2, 'want': 1, 'do': 5, 'with': 2, 'newfound': 1, 'skills': 1, 'We': 2, 'are': 3, 'surrounded': 1, 'in': 2, 'our': 5, 'daily': 1, 'lives': 1, 'computers': 5, 'laptops': 1, 'cell': 1, 'phones': 1, 'think': 1, 'of': 5, 'these': 1, 'as': 1, 'personal': 1, 'assistants': 1, 'who': 1, 'take': 1, 'care': 1, 'things': 3, 'on': 2, 'behalf': 2, 'The': 1, 'hardware': 1, 'current-day': 1, 'essentially': 1, 'built': 1, 'continuously': 1, 'ask': 1, 'us': 2, 'the': 6, 'question': 1, 'What': 1, 'would': 2, 'like': 2, 'me': 1, 'next': 2, 'Our': 1, 'fast': 1, 'have': 1, 'vasts': 1, 'amounts': 1, 'memory': 1, 'could': 2, 'be': 1, 'helpful': 1, 'if': 1, 'we': 5, 'only': 1, 'knew': 2, 'language': 2, 'speak': 1, 'explain': 1, 'computer': 2, 'it': 1, 'If': 1, 'this': 1, 'tell': 1, 'tasks': 1, 'were': 1, 'reptitive': 1, 'Interestingly,': 1, 'kinds': 2, 'best': 1, 'often': 1, 'humans': 1, 'find': 1, 'boring': 1, 'mind-numbing': 1}\n",
      "\n",
      "Bicount:  16\n"
     ]
    }
   ],
   "source": [
    "handle = open('C://Users//user//NOTEBOOKS//words.txt')\n",
    "\n",
    "counts = {}\n",
    "for line in handle:\n",
    "    words = line.split()\n",
    "    for word in words:\n",
    "        counts[word] = counts.get(word,0) + 1\n",
    "print(\"counts: \",counts)\n",
    "\n",
    "#finding largest one\n",
    "bigcount = None\n",
    "bigword = None\n",
    "for word,count in counts.items():\n",
    "    if bigcount is None or count > bigcount:\n",
    "        bigcount = count\n",
    "        bigword = word\n",
    "        \n",
    "print('\\nBicount: ',bigcount)"
   ]
  },
  {
   "cell_type": "code",
   "execution_count": null,
   "id": "745b7636",
   "metadata": {},
   "outputs": [],
   "source": []
  }
 ],
 "metadata": {
  "kernelspec": {
   "display_name": "Python 3 (ipykernel)",
   "language": "python",
   "name": "python3"
  },
  "language_info": {
   "codemirror_mode": {
    "name": "ipython",
    "version": 3
   },
   "file_extension": ".py",
   "mimetype": "text/x-python",
   "name": "python",
   "nbconvert_exporter": "python",
   "pygments_lexer": "ipython3",
   "version": "3.9.7"
  }
 },
 "nbformat": 4,
 "nbformat_minor": 5
}
